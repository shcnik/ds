{
 "cells": [
  {
   "cell_type": "markdown",
   "metadata": {},
   "source": [
    "# Машинное обучение, DS-поток\n",
    "## Задание ML.7K\n",
    "\n",
    "\n",
    "**Правила:**\n",
    "\n",
    "* Дедлайны см. в боте. После дедлайна работы не принимаются кроме случаев наличия уважительной причины.\n",
    "* Прислать нужно **ноутбук в формате `ipynb`**.\n",
    "* Следите за размером файлов. **Бот не может принимать файлы весом более 20 Мб.** Если файл получается больше, заранее разделите его на несколько.\n",
    "* Выполнять задание необходимо полностью самостоятельно. **При обнаружении списывания все участники списывания будут сдавать устный зачет.**\n",
    "* Решения, размещенные на каких-либо интернет-ресурсах, не принимаются. Кроме того, публикация решения в открытом доступе может быть приравнена к предоставлении возможности списать.\n",
    "* Для выполнения задания используйте этот ноутбук в качестве основы, ничего не удаляя из него. Можно добавлять необходимое количество ячеек.\n",
    "* Комментарии к решению пишите в markdown-ячейках.\n",
    "* Выполнение задания (ход решения, выводы и пр.) должно быть осуществлено на русском языке.\n",
    "* Если код будет не понятен проверяющему, оценка может быть снижена.\n",
    "* Никакой код из данного задания при проверке запускаться не будет. *Если код студента не выполнен, недописан и т.д., то он не оценивается.*\n",
    "* В каждой задаче не забывайте делать **пояснения и выводы**.\n",
    "\n",
    "\n",
    "**Правила оформления теоретических задач:**\n",
    "\n",
    "* Решения необходимо прислать одним из следующих способов:\n",
    "  * фотографией в правильной ориентации, где все четко видно, а почерк разборчив,\n",
    "    * отправив ее как файл боту вместе с ноутбуком *или*\n",
    "    * вставив ее в ноутбук посредством `Edit -> Insert Image` (<font color=\"red\">фото, вставленные ссылкой, не принимаются</font>);\n",
    "  * в виде $\\LaTeX$ в markdown-ячейках.\n",
    "* Решения не проверяются, если какое-то требование не выполнено. Особенно внимательно все проверьте в случае выбора второго пункта (вставки фото в ноутбук). <font color=\"red\"><b>Неправильно вставленные фотографии могут не передаться при отправке.</b></font> Для проверки попробуйте переместить `ipynb` в другую папку и открыть его там.\n",
    "* В решениях поясняйте, чем вы пользуетесь, хотя бы кратко. Например, если пользуетесь независимостью, то достаточно подписи вида \"*X и Y незав.*\"\n",
    "* Решение, в котором есть только ответ, и отсутствуют вычисления, оценивается в 0 баллов.\n",
    "\n",
    "**Баллы за задание:**\n",
    "\n",
    "* Задача 2 &mdash; 90 баллов + бонусные баллы + медальки + гуси.\n"
   ]
  },
  {
   "cell_type": "code",
   "execution_count": 2,
   "metadata": {},
   "outputs": [],
   "source": [
    "# Bot check\n",
    "\n",
    "# HW_ID: ds_ml7k\n",
    "# Бот проверит этот ID и предупредит, если случайно сдать что-то не то.\n",
    "\n",
    "# Status: not final\n",
    "# Перед отправкой в финальном решении удали \"not\" в строчке выше.\n",
    "# Так бот проверит, что ты отправляешь финальную версию, а не промежуточную.\n",
    "# Никакие значения в этой ячейке не влияют на факт сдачи работы."
   ]
  },
  {
   "cell_type": "markdown",
   "metadata": {},
   "source": [
    "---\n",
    "\n",
    "### Задача 2"
   ]
  },
  {
   "cell_type": "markdown",
   "metadata": {},
   "source": [
    "Рассмотрим одну из уже классических задач машинного обучения — предсказание кредитного рейтинга клиентов кредитной организации. В данной задаче вам нужно провести анализ данных, построить классификатор клиентов и отправить свои предсказания в Kaggle-соревнование.\n",
    "\n",
    "Кредитный скоринг — система оценки кредитоспособности (кредитных рисков) потенциальных и действующих клиентов, в основу которой вкладываются статистические данные. Кредитный скоринг широко используется как крупными банками, микрофинансовыми организациями, так и в потребительском (магазинном) экспресс-кредитовании на небольшие суммы. Также возможно его использование в бизнесе сотовых операторов, страховых компаний и т. д. Скоринг заключается в присвоении баллов по заполнению некой анкеты, разработанной оценщиками кредитных рисков андеррайтерами. По результатам набранных баллов системой автоматически принимается решение об одобрении или отказе в выдаче кредита.\n",
    "\n",
    "Описание данных:\n",
    "* `client_id`: уникальный идентификатор клиента;\n",
    "* `month`: месяц сбора информации;\n",
    "* `age`: возраст клиента;\n",
    "* `occupation`: вид деятельность;\n",
    "* `annual_income`: годовой доход;\n",
    "* `monthly_salary`: зарплата за текущий месяц;\n",
    "* `number_bank_accounts`: количество банковских счетов у данного клиента;\n",
    "* `number_credit_cards`: количество кредитных карт у данного клиента;\n",
    "* `interest_rate`: процентная ставка по кредитной карте;\n",
    "* `number_loan`: количество кредитов, взятых в банке;\n",
    "* `delay_from_due_date`: среднее количество дней задержки выплат по кредиту;\n",
    "* `number_delayed_payment`: количество платежей по кредиту, которые были выполнены с задержкой;\n",
    "* `number_credit_inquiries`: количество запросов по кредиту;\n",
    "* `unpaid_debt`: сумма долга;\n",
    "* `credit_utilization_ratio`: коэффициент использования кредитных карт;\n",
    "* `credit_history_age`: размер кредитной истории;\n",
    "* `min_amount_payment`: была ли произведенная выплата минимально возможной;\n",
    "* `monthy_amount_invested`: сумма инвестиций за месяц;\n",
    "* `client_behaviour`: платежное поведение клиента;\n",
    "* `monthly_balance`: баланс по итогу месяца;\n",
    "* `credit_rating`: кредитный рейтинг — это **целевой признак**.\n",
    "\n",
    "Ссылка: https://www.kaggle.com/competitions/ds-2024-autumn-37/\n",
    "\n",
    "Инвайт: https://www.kaggle.com/t/785866ded4ce4fa09236c47cc2724d65"
   ]
  },
  {
   "cell_type": "markdown",
   "metadata": {},
   "source": [
    "**Правила**\n",
    "\n",
    "* В Kaggle в данное тренировочное соревнование можно отправлять не более 7 решений в день (8-ю система не позволит).\n",
    "* Решения индивидуальные.\n",
    "* Качество считается по метрике Accuracy.\n",
    "* До окончания соревнования доступны значения качества, посчитанные только на случайных 30% тестовых данных. Значения отображаются в Public Leaderboard.\n",
    "* После окончания соревнования становится доступным Private Leaderboard, в котором значения качества посчитанны на оставшихся 70% объектов.\n",
    "* Для включения в Private Leaderboard можно выбрать две посылки.\n",
    "* В Leaderboard должны отображаться ваши **реальные имя и фамилия**. В противном случае решение может быть не зачтено.\n",
    "* Все файлы, которые вы отправляете в соревнование, видны организаторам соревнования. Файлы должны иметь понятное имя, при отправке файла в систему необходимо написать краткое описание решения. **Это будет проверяться.**\n",
    "* В решении, отправляемом боту, должно быть отображено, результаты каких моделей вы отправляете в соревнование.\n",
    "* Не забывайте сделать пояснения к своему решению. **Решение может быть не зачтено, если в нем недостаточно пояснений**, даже если удалось попасть в топ-3.\n",
    "* Пользоваться можно любыми пройденными в наших курсах моделями.\n",
    "* Нельзя пользоваться любыми методами и моделями, которые мы не проходили, и которых не было в ранее в иных курсах, которые обязательны для всех.\n",
    "* Код студентов, занявших первые 3 места, будет запускаться. Также выборочно может запускаться код и остальных студентов.\n",
    "\n",
    "**Советы**\n",
    "\n",
    "* Чтобы получить действительно хороший результат подбора гиперпараметров мало, попробуйте ввести новые признаки для улучшения качества решения.\n",
    "* Некоторые инсайты по тому, какие признаки могут улучшить качество, можно получить если провести разведывательный анализ данных (EDA). Например, может иметь смысл изучить датасет на предмет наличия выбросов, исследовать пространственное и временное распределение отклика. \n",
    "* Изучите различные методы, предложенные на занятиях.\n",
    "* Сохраняйте код и результаты каждой модели в отдельных файлах. Добавляйте к ним понятные описания, которые помогут вам при необходимости продолжить использовать решение.\n",
    "\n",
    "**Сроки сдачи**\n",
    " \n",
    "* **Дедлайн в Kaggle** совпадает с дедлайном по заданию (25.10 16:00). Дедлайн строгий, Kaggle не позволит сдать даже на секунду позже.\n",
    "* Также **до дедлайна необходимо сдать в бот** существующий вариант решения, возможно, без пояснений.\n",
    "* **До конца следующих суток  (26.10 23:59)** необходимо дооформить решение, соответствующее наилучшему варианту по Private Leaderboard и сдать в бот по отдельной кнопке. **Решение может быть не зачтено, если в нем недостаточно пояснений**, даже если удалось попасть в топ-3.\n",
    "* В случае, если вы до основного дедлайна сдаете оформленное решение, его нужно сдать по двум кнопкам сразу &mdash; соответствующей основной сдаче, и отдельной для оформленного решения.\n",
    "\n",
    "**Баллы**\n",
    "\n",
    "* **Выдаются только при соблюдении всех правил** и суммируются.\n",
    "* 15 баллов — ваше решение лучше `sample_submission.csv` на Public Leaderboard.\n",
    "* 15 баллов — ваше решение дает качество не менее 65% на Public Leaderboard.\n",
    "* по 15 баллов — за каждый следующий преодоленный порог на Private Leaderboard, пороги: 66%, 66.3%, 66.6%, 67%.\n",
    "* 30 баллов за попадание в топ-3 на Private Leaderboard и **шоколадная медаль** за соответствующее место.\n",
    "* **Шоколадная медаль** попадание в топ-10 на Private Leaderboard.\n",
    "* **Мягкий гусь**\n",
    "    * за топ-1 на Private Leaderboard\n",
    "    * за наиболее хорошо оформленное решение\n",
    "    * за самую оригинальную идею (которая привела к улучшению)."
   ]
  },
  {
   "cell_type": "code",
   "execution_count": 15,
   "metadata": {},
   "outputs": [],
   "source": [
    "import numpy as np\n",
    "import pandas as pd\n",
    "\n",
    "import matplotlib.pyplot as plt\n",
    "import seaborn as sns\n",
    "sns.set(font_scale=1.3, palette='Set2')\n",
    "\n",
    "from sklearn.preprocessing import LabelEncoder\n",
    "from sklearn.metrics import mean_absolute_percentage_error as mape\n",
    "from sklearn.model_selection import train_test_split\n",
    "\n",
    "from catboost import CatBoostClassifier\n",
    "\n",
    "from tqdm.notebook import tqdm\n",
    "\n",
    "from sklearn.model_selection import GridSearchCV\n",
    "from sklearn.preprocessing import LabelEncoder"
   ]
  },
  {
   "cell_type": "markdown",
   "metadata": {},
   "source": [
    "Прочитаем тренировочные данные."
   ]
  },
  {
   "cell_type": "code",
   "execution_count": 99,
   "metadata": {},
   "outputs": [
    {
     "data": {
      "text/plain": [
       "client_id                                       5e261a2ce0\n",
       "month                                                 Март\n",
       "age                                                   28.0\n",
       "occupation                                         Учитель\n",
       "annual_income                                     34231.28\n",
       "monthly_salary                                 2991.866667\n",
       "number_bank_accounts                                     2\n",
       "number_credit_cards                                      4\n",
       "interest_rate                                          6.0\n",
       "number_loan                                            1.0\n",
       "delay_from_due_date                                      7\n",
       "number_delayed_payment                                 1.0\n",
       "number_credit_inquiries                                2.0\n",
       "unpaid_debt                                         605.03\n",
       "credit_utilization_ratio                         38.550848\n",
       "credit_history_age                              26 г. 8 м.\n",
       "min_amount_payment                                      No\n",
       "monthy_amount_invested                           40.391238\n",
       "client_behaviour            Большие траты, большие платежи\n",
       "monthly_balance                                 478.941214\n",
       "credit_rating                                      Хороший\n",
       "Name: 1, dtype: object"
      ]
     },
     "execution_count": 99,
     "metadata": {},
     "output_type": "execute_result"
    }
   ],
   "source": [
    "credits = pd.read_csv('ML7_data/train.csv')\n",
    "credits.iloc[1]"
   ]
  },
  {
   "cell_type": "markdown",
   "metadata": {},
   "source": [
    "Можем сделать следующие наблюдения о данных:\n",
    "\n",
    "- `month`, `occupation` являются категориальными признаками.\n",
    "- `client_behaviour` уместно разбить на два порядковых признака для трат и платежей: `client_behaviour_expend` и `client_behaviour_payment`.\n",
    "- `monthly_salary` предоставляет слишком мало данных в дополнение к `annual_income`, т.к. у большинства людей годовой доход находится около 12 месячных зарплат. Этот признак можно исключить.\n",
    "- `credit_history_age` следует преобразовать к количеству месяцев."
   ]
  },
  {
   "cell_type": "code",
   "execution_count": 6,
   "metadata": {},
   "outputs": [],
   "source": [
    "from math import isnan\n",
    "\n",
    "def get_credit_history_months(credit_history_age):\n",
    "    if str(credit_history_age) == 'nan':\n",
    "        return float('nan')\n",
    "    year, month = credit_history_age.split(' ')[::2]\n",
    "    return int(year if year != '' else 0) * 12 + int(month if month != '' else 0)"
   ]
  },
  {
   "cell_type": "code",
   "execution_count": 100,
   "metadata": {},
   "outputs": [
    {
     "data": {
      "text/html": [
       "<div>\n",
       "<style scoped>\n",
       "    .dataframe tbody tr th:only-of-type {\n",
       "        vertical-align: middle;\n",
       "    }\n",
       "\n",
       "    .dataframe tbody tr th {\n",
       "        vertical-align: top;\n",
       "    }\n",
       "\n",
       "    .dataframe thead th {\n",
       "        text-align: right;\n",
       "    }\n",
       "</style>\n",
       "<table border=\"1\" class=\"dataframe\">\n",
       "  <thead>\n",
       "    <tr style=\"text-align: right;\">\n",
       "      <th></th>\n",
       "      <th>month</th>\n",
       "      <th>age</th>\n",
       "      <th>annual_income</th>\n",
       "      <th>number_bank_accounts</th>\n",
       "      <th>number_credit_cards</th>\n",
       "      <th>interest_rate</th>\n",
       "      <th>number_loan</th>\n",
       "      <th>delay_from_due_date</th>\n",
       "      <th>number_delayed_payment</th>\n",
       "      <th>number_credit_inquiries</th>\n",
       "      <th>unpaid_debt</th>\n",
       "      <th>credit_utilization_ratio</th>\n",
       "      <th>credit_history_months</th>\n",
       "      <th>client_expend</th>\n",
       "      <th>client_payment</th>\n",
       "      <th>monthly_balance</th>\n",
       "      <th>credit_rating</th>\n",
       "    </tr>\n",
       "  </thead>\n",
       "  <tbody>\n",
       "    <tr>\n",
       "      <th>0</th>\n",
       "      <td>Февраль</td>\n",
       "      <td>NaN</td>\n",
       "      <td>34811.50</td>\n",
       "      <td>2</td>\n",
       "      <td>4</td>\n",
       "      <td>6.0</td>\n",
       "      <td>1.0</td>\n",
       "      <td>3</td>\n",
       "      <td>4.0</td>\n",
       "      <td>2.0</td>\n",
       "      <td>605.03</td>\n",
       "      <td>24.464031</td>\n",
       "      <td>319.0</td>\n",
       "      <td>малые</td>\n",
       "      <td>малые</td>\n",
       "      <td>463.220627</td>\n",
       "      <td>0</td>\n",
       "    </tr>\n",
       "    <tr>\n",
       "      <th>1</th>\n",
       "      <td>Март</td>\n",
       "      <td>28.0</td>\n",
       "      <td>34231.28</td>\n",
       "      <td>2</td>\n",
       "      <td>4</td>\n",
       "      <td>6.0</td>\n",
       "      <td>1.0</td>\n",
       "      <td>7</td>\n",
       "      <td>1.0</td>\n",
       "      <td>2.0</td>\n",
       "      <td>605.03</td>\n",
       "      <td>38.550848</td>\n",
       "      <td>320.0</td>\n",
       "      <td>большие</td>\n",
       "      <td>большие</td>\n",
       "      <td>478.941214</td>\n",
       "      <td>2</td>\n",
       "    </tr>\n",
       "    <tr>\n",
       "      <th>2</th>\n",
       "      <td>Апрель</td>\n",
       "      <td>28.0</td>\n",
       "      <td>NaN</td>\n",
       "      <td>2</td>\n",
       "      <td>1385</td>\n",
       "      <td>6.0</td>\n",
       "      <td>1.0</td>\n",
       "      <td>3</td>\n",
       "      <td>NaN</td>\n",
       "      <td>2.0</td>\n",
       "      <td>605.03</td>\n",
       "      <td>33.224951</td>\n",
       "      <td>321.0</td>\n",
       "      <td>большие</td>\n",
       "      <td>большие</td>\n",
       "      <td>464.256476</td>\n",
       "      <td>0</td>\n",
       "    </tr>\n",
       "    <tr>\n",
       "      <th>3</th>\n",
       "      <td>Май</td>\n",
       "      <td>28.0</td>\n",
       "      <td>34376.73</td>\n",
       "      <td>2</td>\n",
       "      <td>4</td>\n",
       "      <td>6.0</td>\n",
       "      <td>1.0</td>\n",
       "      <td>3</td>\n",
       "      <td>NaN</td>\n",
       "      <td>2.0</td>\n",
       "      <td>605.03</td>\n",
       "      <td>39.182656</td>\n",
       "      <td>322.0</td>\n",
       "      <td>малые</td>\n",
       "      <td>средние</td>\n",
       "      <td>457.656224</td>\n",
       "      <td>2</td>\n",
       "    </tr>\n",
       "    <tr>\n",
       "      <th>4</th>\n",
       "      <td>Июнь</td>\n",
       "      <td>28.0</td>\n",
       "      <td>34415.88</td>\n",
       "      <td>2</td>\n",
       "      <td>4</td>\n",
       "      <td>6.0</td>\n",
       "      <td>1.0</td>\n",
       "      <td>3</td>\n",
       "      <td>1.0</td>\n",
       "      <td>2.0</td>\n",
       "      <td>605.03</td>\n",
       "      <td>34.977895</td>\n",
       "      <td>323.0</td>\n",
       "      <td>малые</td>\n",
       "      <td>малые</td>\n",
       "      <td>443.497032</td>\n",
       "      <td>2</td>\n",
       "    </tr>\n",
       "  </tbody>\n",
       "</table>\n",
       "</div>"
      ],
      "text/plain": [
       "     month   age  annual_income  number_bank_accounts  number_credit_cards  \\\n",
       "0  Февраль   NaN       34811.50                     2                    4   \n",
       "1     Март  28.0       34231.28                     2                    4   \n",
       "2   Апрель  28.0            NaN                     2                 1385   \n",
       "3      Май  28.0       34376.73                     2                    4   \n",
       "4     Июнь  28.0       34415.88                     2                    4   \n",
       "\n",
       "   interest_rate  number_loan  delay_from_due_date  number_delayed_payment  \\\n",
       "0            6.0          1.0                    3                     4.0   \n",
       "1            6.0          1.0                    7                     1.0   \n",
       "2            6.0          1.0                    3                     NaN   \n",
       "3            6.0          1.0                    3                     NaN   \n",
       "4            6.0          1.0                    3                     1.0   \n",
       "\n",
       "   number_credit_inquiries  unpaid_debt  credit_utilization_ratio  \\\n",
       "0                      2.0       605.03                 24.464031   \n",
       "1                      2.0       605.03                 38.550848   \n",
       "2                      2.0       605.03                 33.224951   \n",
       "3                      2.0       605.03                 39.182656   \n",
       "4                      2.0       605.03                 34.977895   \n",
       "\n",
       "   credit_history_months client_expend client_payment  monthly_balance  \\\n",
       "0                  319.0         малые          малые       463.220627   \n",
       "1                  320.0       большие        большие       478.941214   \n",
       "2                  321.0       большие        большие       464.256476   \n",
       "3                  322.0         малые        средние       457.656224   \n",
       "4                  323.0         малые          малые       443.497032   \n",
       "\n",
       "   credit_rating  \n",
       "0              0  \n",
       "1              2  \n",
       "2              0  \n",
       "3              2  \n",
       "4              2  "
      ]
     },
     "execution_count": 100,
     "metadata": {},
     "output_type": "execute_result"
    }
   ],
   "source": [
    "credits['client_expend'] = credits['client_behaviour'].astype(str).apply(lambda x: str(x).split(' ')[0].lower() if str(x) != 'nan' else float('nan'))\n",
    "credits['client_payment'] = credits['client_behaviour'].astype(str).apply(lambda x: str(x).split(' ')[2].lower() if str(x) != 'nan' else float('nan'))\n",
    "credits['credit_history_months'] = credits['credit_history_age'].apply(get_credit_history_months)\n",
    "credits = credits[[\n",
    "    'month',\n",
    "    'age',\n",
    "    'annual_income',\n",
    "    'number_bank_accounts',\n",
    "    'number_credit_cards',\n",
    "    'interest_rate',\n",
    "    'number_loan',\n",
    "    'delay_from_due_date',\n",
    "    'number_delayed_payment',\n",
    "    'number_credit_inquiries',\n",
    "    'unpaid_debt',\n",
    "    'credit_utilization_ratio',\n",
    "    'credit_history_months',\n",
    "    'client_expend',\n",
    "    'client_payment',\n",
    "    'monthly_balance',\n",
    "    'credit_rating'\n",
    "]]\n",
    "encoder = LabelEncoder()\n",
    "credits['credit_rating'] = encoder.fit_transform(credits['credit_rating'])\n",
    "credits.head()"
   ]
  },
  {
   "cell_type": "code",
   "execution_count": 84,
   "metadata": {},
   "outputs": [],
   "source": [
    "cat_features = ['month', 'occupation', 'client_expend', 'client_payment']\n",
    "features = [\n",
    "    'month',\n",
    "    'age',\n",
    "    'occupation',\n",
    "    'annual_income',\n",
    "    'number_bank_accounts',\n",
    "    'number_credit_cards',\n",
    "    'interest_rate',\n",
    "    'number_loan',\n",
    "    'delay_from_due_date',\n",
    "    'number_delayed_payment',\n",
    "    'number_credit_inquiries',\n",
    "    'unpaid_debt',\n",
    "    'credit_utilization_ratio',\n",
    "    'credit_history_months',\n",
    "    'client_expend',\n",
    "    'client_payment',\n",
    "    'monthly_balance'\n",
    "]\n",
    "target = 'credit_rating'"
   ]
  },
  {
   "cell_type": "code",
   "execution_count": 94,
   "metadata": {},
   "outputs": [],
   "source": [
    "for ft in cat_features:\n",
    "    credits[ft] = credits[ft].astype(str)"
   ]
  },
  {
   "cell_type": "code",
   "execution_count": 95,
   "metadata": {},
   "outputs": [],
   "source": [
    "X = credits[features]\n",
    "y = credits[target]"
   ]
  },
  {
   "cell_type": "markdown",
   "metadata": {},
   "source": [
    "Будем использовать модель CatBoost. Подберём с помощью кросс-валидации оптимальные гиперпараметры:\n",
    "\n",
    "- максимальная глубина: от 7 до 11\n",
    "- количество деревьев установим в 50\n",
    "- шаг обучения: от $10^{-3}$ до $10^{-1}$, увеличивая показатель на 1\n",
    "- коэффициент L2-регуляризации: от 0 до 0.5 с шагом 0.1"
   ]
  },
  {
   "cell_type": "code",
   "execution_count": null,
   "metadata": {},
   "outputs": [],
   "source": [
    "search = GridSearchCV(\n",
    "    estimator=CatBoostClassifier(silent=True, cat_features=cat_features, n_estimators=50),\n",
    "    param_grid={\n",
    "        'max_depth': np.arange(7, 12),\n",
    "        'learning_rate': np.logspace(-3, -1, 3),\n",
    "        'l2_leaf_reg': np.arange(0, 0.5, 0.1)\n",
    "    },\n",
    "    scoring='neg_mean_absolute_error',\n",
    "    cv=5,\n",
    "    n_jobs=-1,\n",
    "    verbose=2\n",
    ")\n",
    "search.fit(X, y)"
   ]
  },
  {
   "cell_type": "code",
   "execution_count": 25,
   "metadata": {},
   "outputs": [
    {
     "data": {
      "text/plain": [
       "{'l2_leaf_reg': 0.1, 'learning_rate': 0.1, 'max_depth': 9}"
      ]
     },
     "execution_count": 25,
     "metadata": {},
     "output_type": "execute_result"
    }
   ],
   "source": [
    "search.best_params_"
   ]
  },
  {
   "cell_type": "markdown",
   "metadata": {},
   "source": [
    "Обучим модель с оптимальными параметрами ещё раз."
   ]
  },
  {
   "cell_type": "code",
   "execution_count": 96,
   "metadata": {},
   "outputs": [
    {
     "data": {
      "text/plain": [
       "<catboost.core.CatBoostClassifier at 0x7badbb5969e0>"
      ]
     },
     "execution_count": 96,
     "metadata": {},
     "output_type": "execute_result"
    }
   ],
   "source": [
    "model = CatBoostClassifier(\n",
    "    silent=True,\n",
    "    cat_features=cat_features,\n",
    "    n_estimators=50,\n",
    "    l2_leaf_reg=0.1,\n",
    "    learning_rate=0.1,\n",
    "    max_depth=9\n",
    ")\n",
    "model.fit(X, y)"
   ]
  },
  {
   "cell_type": "markdown",
   "metadata": {},
   "source": [
    "Теперь повторим предобработку на тестовых данных и применим классификатор"
   ]
  },
  {
   "cell_type": "code",
   "execution_count": 97,
   "metadata": {},
   "outputs": [],
   "source": [
    "credits = pd.read_csv('ML7_data/test.csv')\n",
    "credits['client_expend'] = credits['client_behaviour'].astype(str).apply(lambda x: str(x).split(' ')[0].lower() if str(x) != 'nan' else float('nan'))\n",
    "credits['client_payment'] = credits['client_behaviour'].astype(str).apply(lambda x: str(x).split(' ')[2].lower() if str(x) != 'nan' else float('nan'))\n",
    "credits['credit_history_months'] = credits['credit_history_age'].apply(get_credit_history_months)\n",
    "credits[cat_features] = cat_encoder.transform(credits[cat_features])\n",
    "credits = credits[[\n",
    "    'month',\n",
    "    'age',\n",
    "    'occupation',\n",
    "    'annual_income',\n",
    "    'number_bank_accounts',\n",
    "    'number_credit_cards',\n",
    "    'interest_rate',\n",
    "    'number_loan',\n",
    "    'delay_from_due_date',\n",
    "    'number_delayed_payment',\n",
    "    'number_credit_inquiries',\n",
    "    'unpaid_debt',\n",
    "    'credit_utilization_ratio',\n",
    "    'credit_history_months',\n",
    "    'client_expend',\n",
    "    'client_payment',\n",
    "    'monthly_balance'\n",
    "]]\n",
    "for ft in cat_features:\n",
    "    credits[ft] = credits[ft].astype(str)"
   ]
  },
  {
   "cell_type": "code",
   "execution_count": 98,
   "metadata": {},
   "outputs": [],
   "source": [
    "res = pd.DataFrame({\n",
    "    'index': np.arange(len(credits)),\n",
    "    'credit_rating': encoder.inverse_transform(model.predict(credits).ravel())\n",
    "})\n",
    "res.to_csv('ML7_data/result.csv', index=False)"
   ]
  }
 ],
 "metadata": {
  "kernelspec": {
   "display_name": "Python 3 (ipykernel)",
   "language": "python",
   "name": "python3"
  },
  "language_info": {
   "codemirror_mode": {
    "name": "ipython",
    "version": 3
   },
   "file_extension": ".py",
   "mimetype": "text/x-python",
   "name": "python",
   "nbconvert_exporter": "python",
   "pygments_lexer": "ipython3",
   "version": "3.10.12"
  },
  "widgets": {
   "application/vnd.jupyter.widget-state+json": {
    "state": {},
    "version_major": 2,
    "version_minor": 0
   }
  }
 },
 "nbformat": 4,
 "nbformat_minor": 4
}
